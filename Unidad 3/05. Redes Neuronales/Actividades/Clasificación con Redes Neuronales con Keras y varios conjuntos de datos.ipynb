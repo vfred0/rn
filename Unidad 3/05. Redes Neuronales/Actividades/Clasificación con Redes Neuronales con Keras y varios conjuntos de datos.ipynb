{
 "cells": [
  {
   "cell_type": "markdown",
   "metadata": {
    "collapsed": true,
    "id": "vOmL2rG7ZKic"
   },
   "source": [
    "# Redes Neuronales con Keras\n",
    "\n",
    "En este ejercicio, tu objetivo será entrenar modelos de Redes Neuronales utilizando Keras (y Tensorflow como backend) para familiarizarte con la librería.\n",
    "\n"
   ]
  },
  {
   "cell_type": "code",
   "execution_count": null,
   "metadata": {
    "id": "JuJSZFbeZKie"
   },
   "outputs": [],
   "source": [
    "\n",
    "!pip install -q rnutil\n",
    "import rnutil\n",
    "\n",
    "%matplotlib notebook\n",
    "import matplotlib.pyplot as plt\n",
    "\n",
    "import tensorflow as tf\n",
    "from tensorflow import keras\n",
    "import numpy as np\n",
    "import utils \n",
    "import os\n",
    "\n",
    "# para que los resultados sean reproducibles\n",
    "np.random.seed(4)\n",
    "tf.random.set_seed(4) "
   ]
  },
  {
   "cell_type": "markdown",
   "metadata": {
    "id": "NTFyS4teZKip"
   },
   "source": [
    "# Entrena un modelo de Redes Neuronales con Keras para varios datasets\n",
    "\n",
    "\n",
    "\n",
    "Podés elegir el dataset comentando/descomentando las líneas 9 a 17. Comentá todos los datasets salvo el que quieras usar.\n",
    "\n",
    "Intenta obtener una buena performance en todos los casos. Prueba activando o no la normalización (últimas líneas) ¿Qué datasets no puede aprender el modelo?"
   ]
  },
  {
   "cell_type": "code",
   "execution_count": null,
   "metadata": {
    "id": "ul28eu6eZKit"
   },
   "outputs": [],
   "source": [
    "\n",
    "# Selección del dataset; descomenta el que quieras usar\n",
    "# Datasets en 2D\n",
    "# dataset = \"2_clases_simple.csv\"\n",
    "# dataset = \"6_clases_dificil.csv\"\n",
    "# dataset = \"moons.csv\"\n",
    "#dataset = \"moons_mis-scaled.csv\"\n",
    "\n",
    "\n",
    "# Dataset con más de 2 dimensiones\n",
    "dataset = \"iris.csv\"\n",
    "# dataset = \"diabetes.csv\"\n",
    "\n",
    "# Carga del dataset\n",
    "data = rnutil.load_dataset_numpy(dataset)\n",
    "x,y=data[:,0:-1],data[:,-1]\n",
    "# cantidad de ejemplos y dimension de entrada\n",
    "n,d_in=x.shape\n",
    "# calcula la cantidad de clases\n",
    "classes=int(y.max()+1)\n",
    "\n",
    "print(\"Información del conjunto de datos:\")\n",
    "print(f\"Ejemplos: {n}\")\n",
    "print(f\"Variables de entrada: {d_in}\")\n",
    "print(f\"Cantidad de clases: {classes}\")\n",
    "\n",
    "# Normalizo las variables de entrada\n",
    "for i in range(d_in):\n",
    "    x[:,i]=(x[:,i]-x[:,i].mean())/x[:,i].std()"
   ]
  },
  {
   "cell_type": "markdown",
   "metadata": {
    "id": "Y1o20fsY_dNz"
   },
   "source": [
    "# Creación y entrenamiento del modelo"
   ]
  },
  {
   "cell_type": "code",
   "execution_count": null,
   "metadata": {
    "id": "kuMk8eDhZKi0"
   },
   "outputs": [],
   "source": [
    "\n",
    "# Creo un modelo Red Neuronal \n",
    "modelo = keras.Sequential([\n",
    "    # input_shape solo en la primer capa\n",
    "    # Capa con 3 salidas, activación relu\n",
    "    keras.layers.Dense(3,input_shape=(d_in,), activation='relu'),\n",
    "    # Capa con 5 salidas, activación tanh\n",
    "    keras.layers.Dense(5, activation='tanh'),\n",
    "    #la ultima capa si o si tiene que tener tantas salidas como clases, y softmax \n",
    "    keras.layers.Dense(classes, activation='softmax')])\n",
    "\n",
    "# visualización del modelo inicial (si hay solo 2 variables de entrada)\n",
    "if d_in==2:\n",
    "    rnutil.plot_fronteras_keras(modelo,x,y,title=f\"Modelo inicial\",detail=0.05)\n",
    "\n",
    "\n",
    "\n",
    "modelo.compile(\n",
    "  optimizer=keras.optimizers.SGD(learning_rate=0.1), \n",
    "  loss='sparse_categorical_crossentropy', \n",
    "  # metricas para ir calculando en cada iteracion o batch \n",
    "  # Agregamos el accuracy del modelo\n",
    "  metrics=['accuracy'], \n",
    ")\n",
    "\n",
    "# Entrenamiento del modelo\n",
    "print(\"Entrenando....\")\n",
    "history = modelo.fit(x,y,epochs=100,batch_size=8,verbose=False)\n",
    "rnutil.plot_loss_accuracy_keras(history)\n",
    "\n",
    "\n",
    "# visualización del modelo final (si hay solo 2 variables de entrada)\n",
    "if d_in==2:\n",
    "    rnutil.plot_fronteras_keras(modelo,x,y,title=f\"Modelo Final\",detail=0.05)\n"
   ]
  },
  {
   "cell_type": "markdown",
   "metadata": {
    "id": "iOtA8UWP_dN3"
   },
   "source": [
    "# Cálculo de métricas"
   ]
  },
  {
   "cell_type": "code",
   "execution_count": null,
   "metadata": {
    "id": "X-KHEjOA_dN3"
   },
   "outputs": [],
   "source": [
    "y_pred = modelo.predict(x)\n",
    "rnutil.print_classification_report(y,y_pred)\n",
    "if classes == 2:\n",
    "    rnutil.plot_tradeoff_curves(modelo,x,y)"
   ]
  }
 ],
 "metadata": {
  "colab": {
   "collapsed_sections": [],
   "name": "Clasificación con Redes Neuronales con Keras y varios conjuntos de datos.ipynb",
   "provenance": []
  },
  "kernelspec": {
   "display_name": "Python 3",
   "language": "python",
   "name": "python3"
  },
  "language_info": {
   "codemirror_mode": {
    "name": "ipython",
    "version": 3
   },
   "file_extension": ".py",
   "mimetype": "text/x-python",
   "name": "python",
   "nbconvert_exporter": "python",
   "pygments_lexer": "ipython3",
   "version": "3.8.10"
  }
 },
 "nbformat": 4,
 "nbformat_minor": 1
}
