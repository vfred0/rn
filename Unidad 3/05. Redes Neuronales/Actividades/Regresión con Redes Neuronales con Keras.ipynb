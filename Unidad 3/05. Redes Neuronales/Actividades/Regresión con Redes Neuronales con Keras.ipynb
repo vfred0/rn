{
 "cells": [
  {
   "cell_type": "markdown",
   "metadata": {
    "collapsed": true,
    "id": "vOmL2rG7ZKic"
   },
   "source": [
    "# Regresión con Redes Neuronales con Keras\n",
    "\n",
    "En este ejercicio, tu objetivo será entrenar modelos de Redes Neuronales utilizando Keras (y Tensorflow como backend) para familiarizarte con la librería.\n"
   ]
  },
  {
   "cell_type": "code",
   "execution_count": null,
   "metadata": {
    "id": "JuJSZFbeZKie"
   },
   "outputs": [],
   "source": [
    "!pip install -q rnutil\n",
    "import rnutil\n",
    "import matplotlib.pyplot as plt\n",
    "import utils\n",
    "import tensorflow as tf\n",
    "from tensorflow import keras\n",
    "import numpy as np\n",
    "import os\n",
    "import pandas as pd\n",
    "\n",
    "# para que los resultados sean reproducibles\n",
    "np.random.seed(4)\n",
    "tf.random.set_seed(4) "
   ]
  },
  {
   "cell_type": "markdown",
   "metadata": {
    "id": "NTFyS4teZKip"
   },
   "source": [
    "# Entrena un modelo de Redes Neuronales para regresión\n",
    "En este caso, vamos a predecir el consumo de un vehículo (`MPG`, millas por galón) en base a la cantidad de caballos de fuerza del mismo (atributo `Horsepower`), es decir, un problema simple de predicción 1D: una variable de entrada y una de salida.\n",
    "\n"
   ]
  },
  {
   "cell_type": "code",
   "execution_count": null,
   "metadata": {
    "id": "ul28eu6eZKit"
   },
   "outputs": [],
   "source": [
    "\n",
    "def load_dataset(column='Horsepower'):\n",
    "    url = 'http://archive.ics.uci.edu/ml/machine-learning-databases/auto-mpg/auto-mpg.data'\n",
    "    column_names = ['MPG', 'Cylinders', 'Displacement', 'Horsepower', 'Weight',\n",
    "                'Acceleration', 'Model Year', 'Origin']\n",
    "    assert column in column_names, f\"La columna para la variable independiente debe ser una de las siguientes: {column_names}\"\n",
    "    dataset = pd.read_csv(url, names=column_names,\n",
    "                          na_values='?', comment='\\t',\n",
    "                          sep=' ', skipinitialspace=True)\n",
    "    dataset = dataset.dropna()\n",
    "    dataset = dataset.sort_values(by=column)\n",
    "    dataset = dataset[[column,\"MPG\"]]\n",
    "    dataset = np.array(dataset)\n",
    "    x,y=dataset[:,0:-1],dataset[:,-1:]\n",
    "    return x,y\n",
    "\n",
    "column = \"Horsepower\"\n",
    "x,y=load_dataset(column=column)\n",
    "\n",
    "# cantidad de ejemplos y dimensiones\n",
    "n,d_in=x.shape\n",
    "_,d_out=y.shape\n",
    "\n",
    "print(\"Información del conjunto de datos:\")\n",
    "print(f\"Ejemplos: {n}\")\n",
    "print(f\"Variables de entrada: {d_in} ({column})\")\n",
    "print(f\"Variables de salida: {d_out} (MPG)\")\n",
    "\n",
    "# Normalizo las variables de entrada\n",
    "for i in range(d_in):\n",
    "    x[:,i]=(x[:,i]-x[:,i].mean())/x[:,i].std()\n",
    "\n",
    "plt.plot(x,y,\"o\")\n",
    "plt.xlabel(column+\" (Normalizada)\")\n",
    "plt.ylabel(\"Consumo\")\n",
    "plt.title(\"Consumo (en millas por galon). Valores más altos indican menor consumo\")\n",
    "plt.show()"
   ]
  },
  {
   "cell_type": "markdown",
   "metadata": {},
   "source": [
    "# Modelo de red neuronal no lineal\n",
    "\n",
    "\n",
    "Al ser un problema no lineal, se ve que claramente que un modelo de regresión lineal tendrá problemas para realizar predicciones. A continuación definimos una red de 2 capas con algunas activaciones no lineales para modelar el problema.\n",
    "\n",
    "No obstante, podés quitarle capas al modelo y dejar una sola sin activaciones para probar un modelo lineal y comparar cuantitativamente las ventajas de un modelo no lineal, evaluando la diferencia entre el MAE/MSE de ambos modelos. \n",
    "\n",
    "Recordá que si dejás una sola capa, la misma es tanto la última como la primera, y entonces debe incluir el input_shape, pero no tener función de activación.\n"
   ]
  },
  {
   "cell_type": "code",
   "execution_count": null,
   "metadata": {
    "id": "kuMk8eDhZKi0"
   },
   "outputs": [],
   "source": [
    "# Creo un modelo Red Neuronal \n",
    "modelo = keras.Sequential([\n",
    "    # input_shape solo en la primer capa\n",
    "    # Capa con 2 salidas, activación relu\n",
    "    keras.layers.Dense(2,input_shape=(d_in,), activation=\"relu\"),\n",
    "    # Capa con 2 salidas, activación tanh\n",
    "    keras.layers.Dense(2, activation=\"tanh\" ),\n",
    "    #la ultima capa si o si tiene que tener tantas salidas como valores a predecir\n",
    "    keras.layers.Dense(d_out, )])\n",
    "\n",
    "# visualización del modelo inicial (si hay solo 2 variables de entrada)\n",
    "if d_in==1:\n",
    "    rnutil.plot_regression1D(modelo,x,y,title=f\"Modelo inicial\",xlabel=column,ylabel=\"Consumo\")\n",
    "\n",
    "\n",
    "modelo.compile(\n",
    "  optimizer=keras.optimizers.SGD(learning_rate=0.001), \n",
    "  loss='mse', \n",
    "  # metricas para ir calculando en cada iteracion o batch \n",
    "  # Agregamos el accuracy del modelo\n",
    "  metrics=['mae'], \n",
    ")\n",
    "\n",
    "# Entrenamiento del modelo\n",
    "print(\"Entrenando....\")\n",
    "history = modelo.fit(x,y,epochs=100,batch_size=16,verbose=False)\n",
    "rnutil.plot_training_curves(history)\n",
    "\n",
    "final_mse = history.history[\"loss\"][-1]\n",
    "final_mae = history.history[\"mae\"][-1]\n",
    "print(f\"MSE final: {final_mse}\")\n",
    "print(f\"MAE final: {final_mae}\")\n",
    "\n",
    "# visualización del modelo final (si hay solo 2 variables de entrada)\n",
    "if d_in==1:\n",
    "    rnutil.plot_regression1D(modelo,x,y,title=f\"Modelo Final\",xlabel=column,ylabel=\"Consumo\")"
   ]
  }
 ],
 "metadata": {
  "colab": {
   "collapsed_sections": [],
   "name": "Regresión con Redes Neuronales con Keras.ipynb",
   "provenance": []
  },
  "kernelspec": {
   "display_name": "Python 3",
   "language": "python",
   "name": "python3"
  },
  "language_info": {
   "codemirror_mode": {
    "name": "ipython",
    "version": 3
   },
   "file_extension": ".py",
   "mimetype": "text/x-python",
   "name": "python",
   "nbconvert_exporter": "python",
   "pygments_lexer": "ipython3",
   "version": "3.8.10"
  }
 },
 "nbformat": 4,
 "nbformat_minor": 1
}
