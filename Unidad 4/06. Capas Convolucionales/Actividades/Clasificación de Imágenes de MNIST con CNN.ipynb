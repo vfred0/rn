{
 "cells": [
  {
   "cell_type": "code",
   "execution_count": null,
   "metadata": {
    "id": "HBtj6upW5Krn"
   },
   "outputs": [],
   "source": [
    "!pip install -q rnutil\n",
    "import rnutil\n",
    "from tensorflow.keras.datasets import mnist\n",
    "from tensorflow import keras\n",
    "import numpy as np \n",
    "(x_train, y_train), (x_test, y_test) = mnist.load_data()\n",
    "n,h,w = x_train.shape\n",
    "x_train = x_train.reshape( (60000,28,28,1))\n",
    "x_test = x_test.reshape( (10000,28,28,1))\n",
    "\n",
    "model = keras.Sequential([\n",
    "    keras.layers.InputLayer(input_shape=[28,28,1]),\n",
    "    keras.layers.Conv2D(32,(3,3),activation=\"relu\",padding=\"same\",),\n",
    "    keras.layers.MaxPool2D(pool_size=(2,2)),\n",
    "    keras.layers.Conv2D(32,(3,3),activation=\"relu\",padding=\"same\",),\n",
    "    keras.layers.MaxPool2D(pool_size=(2,2)),\n",
    "    keras.layers.Conv2D(32,(3,3),activation=\"relu\",padding=\"same\",),\n",
    "    keras.layers.MaxPool2D(pool_size=(2,2)),\n",
    "    # keras.layers.GlobalAveragePooling2D(), # alternativa a Flatten\n",
    "    keras.layers.Flatten(),\n",
    "    keras.layers.Dense(10,activation=\"softmax\"),\n",
    "])\n",
    "model.summary()\n",
    "\n",
    "optimizer = keras.optimizers.SGD(learning_rate=0.001)\n",
    "\n",
    "model.compile(loss=\"sparse_categorical_crossentropy\",optimizer=optimizer,metrics=\"accuracy\")\n",
    "history = model.fit(x_train,y_train,batch_size=32,epochs=10, validation_data=(x_test,y_test))\n",
    "rnutil.plot_loss_accuracy_keras(history)"
   ]
  }
 ],
 "metadata": {
  "accelerator": "GPU",
  "colab": {
   "authorship_tag": "ABX9TyMbmkNUVojsz2uJl5YTC9nH",
   "collapsed_sections": [],
   "name": "Clasificación de Imágenes de MNIST con CNN.ipynb",
   "provenance": [
    {
     "file_id": "1gpUa0r45im8CjMnD0UmJkt0TSaoP5imF",
     "timestamp": 1623790651338
    }
   ]
  },
  "kernelspec": {
   "display_name": "Python 3",
   "language": "python",
   "name": "python3"
  },
  "language_info": {
   "codemirror_mode": {
    "name": "ipython",
    "version": 3
   },
   "file_extension": ".py",
   "mimetype": "text/x-python",
   "name": "python",
   "nbconvert_exporter": "python",
   "pygments_lexer": "ipython3",
   "version": "3.8.10"
  }
 },
 "nbformat": 4,
 "nbformat_minor": 1
}
