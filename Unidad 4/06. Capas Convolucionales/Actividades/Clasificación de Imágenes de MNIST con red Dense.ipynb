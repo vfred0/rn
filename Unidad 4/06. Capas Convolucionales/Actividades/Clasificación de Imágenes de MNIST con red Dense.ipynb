{
 "cells": [
  {
   "cell_type": "code",
   "execution_count": null,
   "metadata": {
    "id": "__onFt003u0S"
   },
   "outputs": [],
   "source": [
    "!pip install -q rnutil\n",
    "import rnutil \n",
    "\n",
    "from tensorflow.keras.datasets import mnist\n",
    "(x_train, y_train), (x_test, y_test) = mnist.load_data()\n",
    "n,h,w = x_train.shape"
   ]
  },
  {
   "cell_type": "code",
   "execution_count": null,
   "metadata": {
    "id": "ximVNvda3y-J"
   },
   "outputs": [],
   "source": [
    "import matplotlib.pyplot as plt\n",
    "\n",
    "plt.imshow(x_train[5,:,:],cmap=\"gray\")"
   ]
  },
  {
   "cell_type": "code",
   "execution_count": null,
   "metadata": {
    "id": "TFyPp2F24MvA"
   },
   "outputs": [],
   "source": [
    "from tensorflow import keras\n",
    "\n",
    "model = keras.Sequential([\n",
    "    keras.layers.InputLayer(input_shape=[28,28]),\n",
    "    keras.layers.Flatten(),\n",
    "    keras.layers.Dense(32,activation=\"relu\"),\n",
    "    keras.layers.Dense(32,activation=\"relu\"),\n",
    "    keras.layers.Dense(10,activation=\"softmax\",)\n",
    "])\n",
    "\n",
    "optimizer = keras.optimizers.SGD(learning_rate=0.001)\n",
    "\n",
    "model.compile(loss=\"sparse_categorical_crossentropy\",optimizer=optimizer,metrics=\"accuracy\")\n",
    "history = model.fit(x_train,y_train,batch_size=32,epochs=10, validation_data=(x_test,y_test))\n",
    "rnutil.plot_loss_accuracy_keras(history)\n",
    "\n",
    "\n"
   ]
  }
 ],
 "metadata": {
  "colab": {
   "authorship_tag": "ABX9TyMKSrfo4pbnUXRL5yEyn3s2",
   "collapsed_sections": [],
   "name": "Clasificación de Imágenes de MNIST con red Dense.ipynb",
   "provenance": []
  },
  "kernelspec": {
   "display_name": "Python 3",
   "language": "python",
   "name": "python3"
  },
  "language_info": {
   "codemirror_mode": {
    "name": "ipython",
    "version": 3
   },
   "file_extension": ".py",
   "mimetype": "text/x-python",
   "name": "python",
   "nbconvert_exporter": "python",
   "pygments_lexer": "ipython3",
   "version": "3.8.10"
  }
 },
 "nbformat": 4,
 "nbformat_minor": 1
}
