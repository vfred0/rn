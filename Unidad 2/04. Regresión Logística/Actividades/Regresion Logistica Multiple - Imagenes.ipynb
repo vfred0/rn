{
 "cells": [
  {
   "cell_type": "markdown",
   "metadata": {
    "id": "geuPaZEnLIsy"
   },
   "source": [
    "# Regresión Logística - Clasificación de Imágenes\n",
    "\n",
    "En este cuaderno vamos a clasificar imágenes del dataset [`digits`](https://scikit-learn.org/stable/auto_examples/classification/plot_digits_classification.html) que viene incluido en la librería `sklearn`. \n",
    "Es un dataset muy pequeño y tiene dígitos del 0 al 9. Para simplificar, solo vamos a clasificar entre los dígitos 0 y 1 (o entre 2 pares de dígitos cualesquiera).\n"
   ]
  },
  {
   "cell_type": "code",
   "execution_count": 1,
   "metadata": {
    "colab": {
     "base_uri": "https://localhost:8080/"
    },
    "executionInfo": {
     "elapsed": 11611,
     "status": "ok",
     "timestamp": 1648501446752,
     "user": {
      "displayName": "Redes Neuronales",
      "userId": "11347185938143135425"
     },
     "user_tz": 180
    },
    "id": "G1KZo1u3LIs0",
    "outputId": "a1b22926-624d-4086-bb7c-8434fbcb6c54"
   },
   "outputs": [
    {
     "name": "stdout",
     "output_type": "stream",
     "text": [
      "rnutil: Los archivos de los conjuntos de datos que ofrece este paquete también están disponibles en https://github.com/facundoq/redes-neuronales-util/tree/main/rnutil/data para descargar de forma individual\n",
      "rnutil: Agregando el parámetro local=True en las funciones rnutil.load_dataset_numpy, rnutil.load_dataset_pandas y rnutil.load_image se puede cargar una versión local de un archivo en lugar de la versión que ofrece este paquete.\n"
     ]
    }
   ],
   "source": [
    "import numpy as np\n",
    "import matplotlib.pyplot as plt\n",
    "import rnutil\n",
    "from sklearn import datasets\n",
    "from sklearn import   metrics\n",
    "from tensorflow import keras"
   ]
  },
  {
   "cell_type": "code",
   "execution_count": 2,
   "metadata": {
    "colab": {
     "base_uri": "https://localhost:8080/"
    },
    "executionInfo": {
     "elapsed": 11611,
     "status": "ok",
     "timestamp": 1648501446752,
     "user": {
      "displayName": "Redes Neuronales",
      "userId": "11347185938143135425"
     },
     "user_tz": 180
    },
    "id": "G1KZo1u3LIs0",
    "outputId": "a1b22926-624d-4086-bb7c-8434fbcb6c54"
   },
   "outputs": [],
   "source": [
    "def load_dataset(digitoA=0,digitoB=1):\n",
    "    #Dataset de digitos\n",
    "    digits = datasets.load_digits()\n",
    "\n",
    "    #Nos quedamos solo con los dos dígitos\n",
    "    \n",
    "    indicesA=digits.target==digitoA\n",
    "    indicesB=digits.target==digitoB\n",
    "    indices=np.logical_or(indicesA,indicesB)\n",
    "    digits.images=digits.images[indices]\n",
    "    digits.target[indicesA]=0\n",
    "    digits.target[indicesB]=1\n",
    "    digits.target=digits.target[indices]\n",
    "    \n",
    "    return digits\n",
    "\n",
    "# Mostrar 5 imagenes del training set con su clase\n",
    "def plot_images(images,classes,images_to_show=10,title=\"True class\"):\n",
    "    plt.figure(dpi=100)\n",
    "    images_and_labels = list(zip(images,classes))\n",
    "    for index, (image, label) in enumerate(images_and_labels[:images_to_show]):\n",
    "        plt.subplot(1, images_to_show, index + 1)\n",
    "        plt.axis('off')\n",
    "        plt.imshow(image, cmap=plt.cm.gray_r, interpolation='nearest')\n",
    "        \n",
    "        label = 0 if label <0.5 else 1\n",
    "        plt.title(f'{title}: {label}',fontsize=6)\n",
    "    plt.tight_layout()\n",
    "    plt.show()"
   ]
  },
  {
   "cell_type": "markdown",
   "metadata": {
    "id": "L3RdRF6rLIs1"
   },
   "source": [
    "# Entrenamiento y visualización\n",
    "\n",
    "A continuación, cargamos los datos, armamos un modelo de Regresión Logística binaria (2 clases) con función sigmoidea y entropía cruzada _binaria_ como función de error. Luego entrenamos el modelo y observamos como clasifica los ejemplos. Notar que para distinguir entre 1s y 7s el modelo suele tener problemas.\n",
    "\n"
   ]
  },
  {
   "cell_type": "code",
   "execution_count": null,
   "metadata": {
    "colab": {
     "base_uri": "https://localhost:8080/",
     "height": 427
    },
    "executionInfo": {
     "elapsed": 8633,
     "status": "ok",
     "timestamp": 1648501455378,
     "user": {
      "displayName": "Redes Neuronales",
      "userId": "11347185938143135425"
     },
     "user_tz": 180
    },
    "id": "4en6XDUILIs2",
    "outputId": "490fea0b-8d9d-436d-bdce-bd34dd55f936",
    "scrolled": false
   },
   "outputs": [
    {
     "data": {
      "image/png": "[encoded data removed]",
      "text/plain": [
       "<Figure size 600x400 with 10 Axes>"
      ]
     },
     "metadata": {},
     "output_type": "display_data"
    }
   ],
   "source": [
    "# Cargar datos\n",
    "# Nos quedamos solo con ejemplos de clase 1 y 7 (podés cambiar a otros para probar)\n",
    "digits = load_dataset(digitoA=1,digitoB=7)\n",
    "# Mostrar ejemplos de prueba\n",
    "plot_images(digits.images,digits.target)\n",
    "\n",
    "# Aplanar la imagen para tener una matrix (ejemplos,ancho x alto)\n",
    "# y no una de (ejemplos,ancho,alto)\n",
    "n_samples = len(digits.images)\n",
    "x = digits.images.reshape((n_samples, -1))\n",
    "y = digits.target\n",
    "\n",
    "\n",
    "n,din=x.shape\n",
    "\n",
    "#Entrenar regresión logistica\n",
    "model = keras.Sequential([\n",
    "    # la activación sigmoidea hace que la salida sea UNA probabilidad\n",
    "    # para problemas binarios\n",
    "    keras.layers.Dense(1,input_shape=(din,), activation='sigmoid')]) \n",
    "\n",
    "model.compile(\n",
    "  optimizer=keras.optimizers.SGD(learning_rate=0.001), \n",
    "  loss='binary_crossentropy',  # entropía cruzada _binaria_\n",
    "  # metricas para ir calculando en cada iteracion  \n",
    "  # Agregamos el accuracy del modelo\n",
    "  metrics=['accuracy'], \n",
    ")\n",
    "\n",
    "# Entrenamiento del modelo\n",
    "print(\"Entrenando modelo...\")\n",
    "history=model.fit(x,y,epochs=100,batch_size=16,verbose=False)\n",
    "\n",
    "rnutil.plot_loss_accuracy_keras(history)\n",
    "\n",
    "\n",
    "# # Predecimos sobre el conjunto de entrenamiento\n",
    "predicted = model.predict(x)\n",
    "\n",
    "# Mostrar ejemplos de prueba\n",
    "plot_images(digits.images,predicted,title=\"Pred. class\")"
   ]
  }
 ],
 "metadata": {
  "colab": {
   "name": "Regresion Logistica Multiple - Imagenes.ipynb",
   "provenance": []
  },
  "kernelspec": {
   "display_name": "Python 3 (ipykernel)",
   "language": "python",
   "name": "python3"
  },
  "language_info": {
   "codemirror_mode": {
    "name": "ipython",
    "version": 3
   },
   "file_extension": ".py",
   "mimetype": "text/x-python",
   "name": "python",
   "nbconvert_exporter": "python",
   "pygments_lexer": "ipython3",
   "version": "3.10.4"
  }
 },
 "nbformat": 4,
 "nbformat_minor": 1
}
