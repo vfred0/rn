{
 "cells": [
  {
   "cell_type": "markdown",
   "metadata": {},
   "source": [
    "# Visualización de la Función Logística\n",
    "\n",
    "En este cuaderno podés observar como la funcíón logística paso a paso converte un valor que es un puntaje y podría tomar cualquier valor desde infinito negativo a positivo, a un valor entre 0 y 1.\n",
    "\n",
    "Probá cambiar el valor de x y respondé:\n",
    "* ¿Para qué rango de valores de x la función es cercana a 0?\n",
    "* ¿Cuáles son sus asíntotas? ¿Qué implica esto para puntajes muy altos o bajos?"
   ]
  },
  {
   "cell_type": "code",
   "execution_count": null,
   "metadata": {},
   "outputs": [],
   "source": [
    "import matplotlib.pyplot as plt\n",
    "import numpy as np\n",
    "\n",
    "#cambiar x\n",
    "x=2\n",
    "#fin cambiar\n",
    "\n",
    "x_plot=np.linspace(-10,10,100)\n",
    "s1=np.exp(x_plot)\n",
    "plt.plot(x_plot,s1)\n",
    "plt.scatter([x],np.exp(x))\n",
    "plt.title(\"$e^x$\")\n",
    "plt.show()\n",
    "\n",
    "s2=np.exp(-x_plot)\n",
    "plt.plot(x_plot,s2)\n",
    "plt.scatter([x],np.exp(-x))\n",
    "plt.title(\"$e^{-x}$\")\n",
    "plt.show()\n",
    "\n",
    "s3=1+np.exp(-x_plot)\n",
    "plt.plot(x_plot,s3)\n",
    "plt.scatter([x],1+np.exp(-x))\n",
    "plt.title(\"$1+e^{-x}$\")\n",
    "plt.show()\n",
    "\n",
    "s4=1/(1+np.exp(-x_plot))\n",
    "plt.plot(x_plot,s4)\n",
    "plt.scatter([x],1/(1+np.exp(-x)))\n",
    "plt.title(\"$\\sigma(x)= \\\\frac{1}{1+e^{-x}}$\")\n",
    "\n",
    "plt.show()"
   ]
  }
 ],
 "metadata": {
  "kernelspec": {
   "display_name": "Python 3",
   "language": "python",
   "name": "python3"
  },
  "language_info": {
   "codemirror_mode": {
    "name": "ipython",
    "version": 3
   },
   "file_extension": ".py",
   "mimetype": "text/x-python",
   "name": "python",
   "nbconvert_exporter": "python",
   "pygments_lexer": "ipython3",
   "version": "3.8.10"
  }
 },
 "nbformat": 4,
 "nbformat_minor": 2
}
