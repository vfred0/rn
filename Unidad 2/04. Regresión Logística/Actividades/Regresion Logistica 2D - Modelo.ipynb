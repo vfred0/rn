{
 "cells": [
  {
   "cell_type": "markdown",
   "metadata": {
    "id": "B1SDNQRkwq3_"
   },
   "source": [
    "# Visualización del Modelo de Regresión Logística 2D\n",
    "\n",
    "Funciones auxiliares (solo ejecutar, y seguir más abajo)"
   ]
  },
  {
   "cell_type": "code",
   "execution_count": null,
   "metadata": {
    "id": "rDxLLyoRwq4D"
   },
   "outputs": [],
   "source": [
    "###############################################################################\n",
    "%matplotlib notebook\n",
    "\n",
    "!pip install -q rnutil\n",
    "import rnutil\n",
    "\n",
    "import matplotlib.pyplot as plt\n",
    "import numpy as np\n",
    "import os\n",
    "import matplotlib.patches as patches\n",
    "from mpl_toolkits.mplot3d import Axes3D\n",
    "from matplotlib import cm\n",
    "###############################################################################\n",
    "\n",
    "\n",
    "def sigmoid(x):\n",
    "    return 1/(1+np.exp(-x))\n",
    "def linear(x,w,b):\n",
    "    return x.dot(w)+b\n",
    "def forward(x,w,b):\n",
    "    return sigmoid(linear(x,w,b))\n",
    "def mean_binary_cross_entropy(y,yhat):\n",
    "    eps = np.finfo(float).eps\n",
    "    n=len(y)\n",
    "    errors=np.zeros(n)\n",
    "    for i in range(n):\n",
    "        if y[i]==1:\n",
    "            errors[i]=-np.log(yhat[i]+eps)\n",
    "        else: #y[i]==0\n",
    "            errors[i]=-np.log(1-yhat[i]+eps)\n",
    "            \n",
    "    # implementación vectorial\n",
    "    #errors=y* (-log(yhat)) +(1-y)* (-log(-yhat))\n",
    "    return errors.mean()\n",
    "\n"
   ]
  },
  {
   "cell_type": "markdown",
   "metadata": {
    "id": "VOP-1inXwq4G"
   },
   "source": [
    "# Visualización del modelo y la superficie del error\n",
    "\n",
    "El siguiente código carga un conjunto de datos, y luego crea un modelo de regresión logística para predecir los valores de salida `y` en base a los de entrada `x` y en base a la función `y=sigmoid(w*x+b)`.\n",
    "\n",
    "Probá modificando los parámetros `w` y `b` del modelo, tratando de minimizar *a mano* el error. Observá como cambia la recta `w*x+b` y por consecuente la frontera entre clases dada por `sigmoid(w*x+b)` y qué tan bien se ajusta a los datos.  \n",
    "\n",
    "En este caso, ya no podemos visualizar la función de error ya que hay 3 parámetros y por ende necesitaríamos 4 dimensiones (3 para los parámetros y una para el valor del error en base a ellos).\n",
    "\n",
    "Nota: Ahora tanto `w` como `x` ahora son vectores con 2 dimensiones, o sea `x` tiene tamaño `Nx2` y `w` tiene tamaño `2`.\n",
    "    \n",
    "\n"
   ]
  },
  {
   "cell_type": "code",
   "execution_count": null,
   "metadata": {
    "id": "mbnF7x3jwq4H"
   },
   "outputs": [],
   "source": [
    "\n",
    "## Carga de datos\n",
    "data=rnutil.load_dataset_numpy(\"study_logistic_2d.csv\")\n",
    "x,y=data[:,0:2],data[:,2]\n",
    "\n",
    "## Parámetros del modelo (probar valores entre -5 y 5)\n",
    "w=np.array([1,1])\n",
    "b=2\n",
    "\n",
    "yhat=forward(x,w,b)\n",
    "error = mean_binary_cross_entropy(y,yhat)\n",
    "\n",
    "rnutil.plot_regresion_logistica2D(w,b,x,y,error,\"x (Horas estudiadas)\",\"y (Promedio)\",\"P(aprobar)\",padding=50)"
   ]
  }
 ],
 "metadata": {
  "colab": {
   "name": "Regresion Logistica 2D - Modelo.ipynb",
   "provenance": []
  },
  "kernelspec": {
   "display_name": "Python 3",
   "language": "python",
   "name": "python3"
  },
  "language_info": {
   "codemirror_mode": {
    "name": "ipython",
    "version": 3
   },
   "file_extension": ".py",
   "mimetype": "text/x-python",
   "name": "python",
   "nbconvert_exporter": "python",
   "pygments_lexer": "ipython3",
   "version": "3.8.10"
  }
 },
 "nbformat": 4,
 "nbformat_minor": 1
}
