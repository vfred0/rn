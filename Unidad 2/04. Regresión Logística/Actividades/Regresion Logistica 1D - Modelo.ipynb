{
 "cells": [
  {
   "cell_type": "markdown",
   "metadata": {
    "id": "gPlBgk5eLGi5"
   },
   "source": [
    "# Visualización del Modelo de Regresión Logística y la función de error Entropía Cruzada\n",
    "\n",
    "Funciones auxiliares (solo ejecutar, y seguir más abajo)"
   ]
  },
  {
   "cell_type": "code",
   "execution_count": null,
   "metadata": {
    "colab": {
     "base_uri": "https://localhost:8080/"
    },
    "executionInfo": {
     "elapsed": 5454,
     "status": "ok",
     "timestamp": 1648501457668,
     "user": {
      "displayName": "Redes Neuronales",
      "userId": "11347185938143135425"
     },
     "user_tz": 180
    },
    "id": "Khf6KSnkLGi7",
    "outputId": "7afa6e3d-ce9c-4f2c-b697-8fd793555a46"
   },
   "outputs": [],
   "source": [
    "###############################################################################\n",
    "%matplotlib notebook\n",
    "!pip install -q rnutil\n",
    "import rnutil\n",
    "import numpy as np\n"
   ]
  },
  {
   "cell_type": "markdown",
   "metadata": {
    "id": "3HvLseI7LGi9"
   },
   "source": [
    "# Visualización del modelo y la superficie del error\n",
    "\n",
    "El siguiente código carga un conjunto de datos, y luego crea un modelo de regresión logística para predecir los valores de salida `y` en base a los de entrada `x` en base a la función `y=sigmoid(mx+b)`.\n",
    "\n",
    "Probá modificando los parámetros `m` y `b` del modelo, tratando de minimizar *a mano* el error. \n",
    "\n",
    "Observá como cambia la curva `sigmoid(mx+b)` y qué tan bien se ajusta a los datos (izquierda) y al mismo tiempo cambia la posición de los parámetros en la función de error (bola verde/turquesa en la figura de la derecha).  \n",
    "\n",
    "Notá que la forma de la superficie del error (un paraboloide) no cambia al modificar los parámetros (derecha). Lo que si cambia es la posición de los mismos en el espacio de todas las posibles combinaciones de `m` y `b`.\n",
    "\n",
    "\n",
    "Luego de eso, entre el comentario `## COMIENZO NORMALIZAR` y `##FIN NORMALIZAR`, normalizá los datos de entrada `x` restándoles la media μ y dividiendo por la desviación estándar σ con la fórmula `x ← (x-μ)/σ`. Recordá que `x` es un vector de NumPy y por ende soporta los métodos `mean()` y `std()`. \n",
    "\n",
    "¿Cambia la superficie de la función de error resultante al normalizar? ¿Depende la superficie del error de los datos de entrada? ¿y de los datos de salida? (normalizar también `y` para probar)"
   ]
  },
  {
   "cell_type": "code",
   "execution_count": null,
   "metadata": {
    "colab": {
     "base_uri": "https://localhost:8080/",
     "height": 243
    },
    "executionInfo": {
     "elapsed": 10,
     "status": "error",
     "timestamp": 1648501457668,
     "user": {
      "displayName": "Redes Neuronales",
      "userId": "11347185938143135425"
     },
     "user_tz": 180
    },
    "id": "b2W3M1hXLGi-",
    "outputId": "c66858ab-0917-41df-b38b-345a241a4400"
   },
   "outputs": [],
   "source": [
    "## Carga de datos\n",
    "\n",
    "data=rnutil.load_dataset_numpy(\"study_logistic.csv\")\n",
    "x,y=data[:,0],data[:,1]\n",
    "\n",
    "## COMIENZO NORMALIZAR\n",
    "#normalizar x\n",
    "\n",
    "## FIN NORMALIZAR\n",
    "\n",
    "## Parámetros del modelo (probar valores entre -5 y 5)\n",
    "m=0.25\n",
    "b=-5\n",
    "\n",
    "rnutil.plot_regresion_logistica1d(x,y,m,b,\"x: Horas estudiadas\", \"y: p(aprobar|horas)\",\"Modelo de probabilidad de aprobar\")\n"
   ]
  }
 ],
 "metadata": {
  "colab": {
   "name": "Regresion Logistica 1D - Modelo.ipynb",
   "provenance": []
  },
  "kernelspec": {
   "display_name": "Python 3",
   "language": "python",
   "name": "python3"
  },
  "language_info": {
   "codemirror_mode": {
    "name": "ipython",
    "version": 3
   },
   "file_extension": ".py",
   "mimetype": "text/x-python",
   "name": "python",
   "nbconvert_exporter": "python",
   "pygments_lexer": "ipython3",
   "version": "3.8.10"
  }
 },
 "nbformat": 4,
 "nbformat_minor": 1
}
