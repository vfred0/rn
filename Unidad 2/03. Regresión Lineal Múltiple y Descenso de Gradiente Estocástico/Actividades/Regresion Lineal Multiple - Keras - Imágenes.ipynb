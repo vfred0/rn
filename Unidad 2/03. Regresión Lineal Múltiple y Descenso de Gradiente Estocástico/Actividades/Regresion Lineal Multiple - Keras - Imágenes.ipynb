{
 "cells": [
  {
   "cell_type": "code",
   "execution_count": 1,
   "metadata": {},
   "outputs": [],
   "source": [
    "%matplotlib inline"
   ]
  },
  {
   "cell_type": "markdown",
   "metadata": {
    "id": "fp0BCyTO-ojk",
    "tags": []
   },
   "source": [
    "# Reconstrucción de parte de una imagen en base a otra\n",
    "\n",
    "En este cuaderno, vamos a entrenar un modelo de regresión lineal para que reconstruya la mitad de abajo de una imagen, utilizando como entrada la mitad de arriba. Como las imágenes son de 8x8, o sea 64 píxeles, la entrada serán entonces los 32 píxeles de arriba de la imagen, y la salida los 32 de abajo.\n",
    "\n",
    "Vamos a comparar dos métodos de optimización. El primero es el clásico método analítico basado en [cuadrados mínimos](https://en.wikipedia.org/wiki/Linear_least_squares) que se utiliza muy comunmente en estadística y utilizando la implementación de la librería [`sklearn`](https://scikit-learn.org/stable/modules/generated/sklearn.linear_model.LinearRegression.html). El otro es el descenso de gradiente estocástico. \n",
    "\n",
    "En este caso, veremos que el descenso de gradiente es superior al método analítico, dada la gran cantidad de variables de entrada y salida que requiere el modelo. "
   ]
  },
  {
   "cell_type": "code",
   "execution_count": 2,
   "metadata": {
    "id": "3TkzXRjR-ojn"
   },
   "outputs": [
    {
     "name": "stdout",
     "output_type": "stream",
     "text": [
      "rnutil: Los archivos de los conjuntos de datos que ofrece este paquete también están disponibles en https://github.com/facundoq/redes-neuronales-util/tree/main/rnutil/data para descargar de forma individual\n",
      "rnutil: Agregando el parámetro local=True en las funciones rnutil.load_dataset_numpy, rnutil.load_dataset_pandas y rnutil.load_image se puede cargar una versión local de un archivo en lugar de la versión que ofrece este paquete.\n"
     ]
    }
   ],
   "source": [
    "import rnutil\n",
    "import matplotlib.pyplot as plt\n",
    "from mpl_toolkits.mplot3d import Axes3D\n",
    "import numpy as np\n",
    "import os\n",
    "import matplotlib.patches as patches\n",
    "from collections import namedtuple\n",
    "from matplotlib import cm\n",
    "from sklearn.datasets import load_digits\n",
    "from tensorflow import keras"
   ]
  },
  {
   "cell_type": "code",
   "execution_count": 3,
   "metadata": {
    "id": "oB_Ui6xo-ojo"
   },
   "outputs": [],
   "source": [
    "#Carga del dataset\n",
    "\n",
    "digits = load_digits()\n",
    "data=digits.images.reshape(-1,64)\n",
    "images=digits.images\n",
    "n,d=data.shape # n= cant ejemplos, d=tamaño de la imagen\n",
    "dx=32 # pixeles de la parte de arriba\n",
    "dy=d-dx # pixeles de la parte de abajo\n",
    "# x tiene la parte de arriba de la imagen\n",
    "x=data[:,0:dx]\n",
    "# y tiene la parte de abajo de la imagen\n",
    "y=data[:,dx:]"
   ]
  },
  {
   "cell_type": "code",
   "execution_count": 4,
   "metadata": {
    "id": "5NvlE-4H-ojo"
   },
   "outputs": [
    {
     "data": {
      "image/png": "[encoded data removed]",
      "text/plain": [
       "<Figure size 300x200 with 3 Axes>"
      ]
     },
     "metadata": {},
     "output_type": "display_data"
    }
   ],
   "source": [
    "# Visualizamos ejemplos del dataset\n",
    "\n",
    "def plot_sample(x,y,sample_index,title=\"Original\"):\n",
    "    upper=x[sample_index,:].reshape((4,8))\n",
    "    lower=y[sample_index,:].reshape((4,8))\n",
    "    complete=np.vstack([upper,lower])\n",
    "    \n",
    "    fig,(a1,a2,a3)=plt.subplots(1,3,dpi=50)\n",
    "    plt.suptitle(title)\n",
    "    #Visualizar una muestra\n",
    "    a1.matshow(complete, cmap=cm.gray, vmin=0, vmax=16) \n",
    "    a1.set_title(\"Imagen entera\")\n",
    "    a1.axis(\"off\")\n",
    "\n",
    "    a2.imshow(upper, cmap=cm.gray, vmin=0, vmax=16)\n",
    "    a2.set_title(\"Mitad superior\")\n",
    "    a2.axis(\"off\")\n",
    "\n",
    "    a3.imshow(lower, cmap=cm.gray, vmin=0, vmax=16)\n",
    "    a3.set_title(\"Mitad inferior\")\n",
    "    a3.axis(\"off\")\n",
    "    plt.show()\n",
    "\n",
    "## CAMBIAR INDICE DE IMAGEN A VISUALIZAR\n",
    "sample_index=20\n",
    "plot_sample(x,y,sample_index)"
   ]
  },
  {
   "cell_type": "markdown",
   "metadata": {
    "id": "d7wscadw-ojp"
   },
   "source": [
    "# Optimización de los parámetros mediante cuadrádos mínimos (método analítico)\n",
    "\n",
    "Utilizando la librería `sklearn`, vamos a optimizar `w` y `b` utilizando un método analítico clásico. Este método no funciona bien para este problema por la gran cantidad de dimensiones del mismo y tiene un error sustancialmente peor que el modelo entrenado con descenso de graidente que veremos más abajo."
   ]
  },
  {
   "cell_type": "code",
   "execution_count": 5,
   "metadata": {
    "id": "icnPCf7K-ojq"
   },
   "outputs": [
    {
     "name": "stdout",
     "output_type": "stream",
     "text": [
      "Modelo analítico entrenado, error=3036.654706010187\n"
     ]
    },
    {
     "data": {
      "image/png": "[encoded data removed]",
      "text/plain": [
       "<Figure size 300x200 with 3 Axes>"
      ]
     },
     "metadata": {},
     "output_type": "display_data"
    },
    {
     "data": {
      "image/png": "[encoded data removed]",
      "text/plain": [
       "<Figure size 300x200 with 3 Axes>"
      ]
     },
     "metadata": {},
     "output_type": "display_data"
    }
   ],
   "source": [
    "def analytic_model(x,y):\n",
    "    from sklearn import  linear_model\n",
    "    regr = linear_model.LinearRegression()\n",
    "    regr.fit(x,y)\n",
    "    optimal_w=regr.coef_\n",
    "    optimal_b=regr.intercept_\n",
    "    y_pred_analytic=x.dot(optimal_w)+optimal_b\n",
    "    optimal_error=((y_pred_analytic-y)**2).mean()\n",
    "    \n",
    "    return optimal_w,optimal_b,optimal_error,y_pred_analytic\n",
    "\n",
    "# parámetros y error del modelo analítico\n",
    "analytic_w,analytic_b,analytic_error,y_pred_analytic = analytic_model(x,y)\n",
    "print(f\"Modelo analítico entrenado, error={analytic_error}\")\n",
    "\n",
    "sample_index=200\n",
    "plot_sample(x,y,sample_index)\n",
    "plot_sample(x,y_pred_analytic,sample_index,title=\"Reconstruida por modelo analítico\")\n"
   ]
  },
  {
   "cell_type": "markdown",
   "metadata": {
    "id": "cndd6mmX-ojq"
   },
   "source": [
    "# Entrenamiento de un modelo Keras"
   ]
  },
  {
   "cell_type": "code",
   "execution_count": 6,
   "metadata": {
    "id": "rZndc06i-ojr"
   },
   "outputs": [
    {
     "name": "stdout",
     "output_type": "stream",
     "text": [
      "Inicialización aleatoria del modelo; vuelve a correr esta celda para obtener otros resultados\n"
     ]
    },
    {
     "name": "stderr",
     "output_type": "stream",
     "text": [
      "2022-04-02 18:09:15.089511: I tensorflow/stream_executor/cuda/cuda_gpu_executor.cc:975] successful NUMA node read from SysFS had negative value (-1), but there must be at least one NUMA node, so returning NUMA node zero\n",
      "2022-04-02 18:09:15.107039: I tensorflow/stream_executor/cuda/cuda_gpu_executor.cc:975] successful NUMA node read from SysFS had negative value (-1), but there must be at least one NUMA node, so returning NUMA node zero\n",
      "2022-04-02 18:09:15.107146: I tensorflow/stream_executor/cuda/cuda_gpu_executor.cc:975] successful NUMA node read from SysFS had negative value (-1), but there must be at least one NUMA node, so returning NUMA node zero\n",
      "2022-04-02 18:09:15.108005: I tensorflow/core/platform/cpu_feature_guard.cc:193] This TensorFlow binary is optimized with oneAPI Deep Neural Network Library (oneDNN) to use the following CPU instructions in performance-critical operations:  AVX2 FMA\n",
      "To enable them in other operations, rebuild TensorFlow with the appropriate compiler flags.\n",
      "2022-04-02 18:09:15.108767: I tensorflow/stream_executor/cuda/cuda_gpu_executor.cc:975] successful NUMA node read from SysFS had negative value (-1), but there must be at least one NUMA node, so returning NUMA node zero\n",
      "2022-04-02 18:09:15.108868: I tensorflow/stream_executor/cuda/cuda_gpu_executor.cc:975] successful NUMA node read from SysFS had negative value (-1), but there must be at least one NUMA node, so returning NUMA node zero\n",
      "2022-04-02 18:09:15.108950: I tensorflow/stream_executor/cuda/cuda_gpu_executor.cc:975] successful NUMA node read from SysFS had negative value (-1), but there must be at least one NUMA node, so returning NUMA node zero\n",
      "2022-04-02 18:09:15.389424: I tensorflow/stream_executor/cuda/cuda_gpu_executor.cc:975] successful NUMA node read from SysFS had negative value (-1), but there must be at least one NUMA node, so returning NUMA node zero\n",
      "2022-04-02 18:09:15.389546: I tensorflow/stream_executor/cuda/cuda_gpu_executor.cc:975] successful NUMA node read from SysFS had negative value (-1), but there must be at least one NUMA node, so returning NUMA node zero\n",
      "2022-04-02 18:09:15.389634: I tensorflow/stream_executor/cuda/cuda_gpu_executor.cc:975] successful NUMA node read from SysFS had negative value (-1), but there must be at least one NUMA node, so returning NUMA node zero\n",
      "2022-04-02 18:09:15.389709: I tensorflow/core/common_runtime/gpu/gpu_device.cc:1532] Created device /job:localhost/replica:0/task:0/device:GPU:0 with 7393 MB memory:  -> device: 0, name: NVIDIA GeForce RTX 3080, pci bus id: 0000:08:00.0, compute capability: 8.6\n"
     ]
    },
    {
     "name": "stdout",
     "output_type": "stream",
     "text": [
      "Entrenando modelo con descenso de gradiente...\n"
     ]
    },
    {
     "name": "stderr",
     "output_type": "stream",
     "text": [
      "2022-04-02 18:09:15.999155: I tensorflow/stream_executor/cuda/cuda_blas.cc:1786] TensorFloat-32 will be used for the matrix multiplication. This will only be logged once.\n"
     ]
    },
    {
     "data": {
      "image/png": "[encoded data removed]",
      "text/plain": [
       "<Figure size 432x288 with 1 Axes>"
      ]
     },
     "metadata": {},
     "output_type": "display_data"
    }
   ],
   "source": [
    "n,d_in=x.shape\n",
    "n,d_out=y.shape\n",
    "\n",
    "# Creación del modelo inicial\n",
    "print(\"Inicialización aleatoria del modelo; vuelve a correr esta celda para obtener otros resultados\")\n",
    "# Creo un modelo lineal\n",
    "model = keras.Sequential([\n",
    "    keras.layers.Dense(d_out,input_shape=(d_in,), activation=None)])\n",
    "\n",
    "sgd = keras.optimizers.SGD(learning_rate=0.001)\n",
    "model.compile(\n",
    "  optimizer=sgd,\n",
    "  loss=\"mse\",\n",
    "  metrics=[], # metricas para ir calculando en cada iteracion o batch (ninguna ahora)\n",
    ")\n",
    "print(f\"Entrenando modelo con descenso de gradiente...\")\n",
    "history=model.fit(x,y,batch_size=32,epochs=50,verbose=False)\n",
    "\n",
    "rnutil.plot_loss(history.history[\"loss\"])"
   ]
  },
  {
   "cell_type": "markdown",
   "metadata": {
    "id": "WVmQ8Qeg-ojr"
   },
   "source": [
    "# Visualización de la reconstrucción del modelo entrenado con descenso de gradiente"
   ]
  },
  {
   "cell_type": "code",
   "execution_count": 7,
   "metadata": {
    "id": "0o5Op6Jx-ojs"
   },
   "outputs": [
    {
     "name": "stdout",
     "output_type": "stream",
     "text": [
      "57/57 [==============================] - 0s 363us/step\n"
     ]
    },
    {
     "data": {
      "image/png": "[encoded data removed]",
      "text/plain": [
       "<Figure size 300x200 with 3 Axes>"
      ]
     },
     "metadata": {},
     "output_type": "display_data"
    },
    {
     "data": {
      "image/png": "[encoded data removed]",
      "text/plain": [
       "<Figure size 300x200 with 3 Axes>"
      ]
     },
     "metadata": {},
     "output_type": "display_data"
    }
   ],
   "source": [
    "y_pred = model.predict(x)\n",
    "\n",
    "sample_index=200\n",
    "plot_sample(x,y,sample_index)\n",
    "plot_sample(x,y_pred,sample_index,title=\"Reconstruida por modelo de Descenso de gradiente\")"
   ]
  }
 ],
 "metadata": {
  "colab": {
   "collapsed_sections": [],
   "name": "Regresion Lineal Multiple - Keras - Imágenes.ipynb",
   "provenance": []
  },
  "kernelspec": {
   "display_name": "Python 3 (ipykernel)",
   "language": "python",
   "name": "python3"
  },
  "language_info": {
   "codemirror_mode": {
    "name": "ipython",
    "version": 3
   },
   "file_extension": ".py",
   "mimetype": "text/x-python",
   "name": "python",
   "nbconvert_exporter": "python",
   "pygments_lexer": "ipython3",
   "version": "3.10.4"
  },
  "widgets": {
   "application/vnd.jupyter.widget-state+json": {
    "state": {},
    "version_major": 2,
    "version_minor": 0
   }
  }
 },
 "nbformat": 4,
 "nbformat_minor": 4
}
