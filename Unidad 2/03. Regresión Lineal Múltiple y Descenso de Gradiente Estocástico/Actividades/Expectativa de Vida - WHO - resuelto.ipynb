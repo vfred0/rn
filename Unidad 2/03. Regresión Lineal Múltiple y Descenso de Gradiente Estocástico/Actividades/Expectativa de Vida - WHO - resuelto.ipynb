{
 "cells": [
  {
   "cell_type": "code",
   "execution_count": 1,
   "id": "f0979403",
   "metadata": {
    "scrolled": true
   },
   "outputs": [
    {
     "name": "stdout",
     "output_type": "stream",
     "text": [
      "rnutil: Los archivos de los conjuntos de datos que ofrece este paquete también están disponibles en https://github.com/facundoq/redes-neuronales-util/tree/main/rnutil/data para descargar de forma individual\n",
      "rnutil: Agregando el parámetro local=True en las funciones rnutil.load_dataset_numpy, rnutil.load_dataset_pandas y rnutil.load_image se puede cargar una versión local de un archivo en lugar de la versión que ofrece este paquete.\n"
     ]
    }
   ],
   "source": [
    "import rnutil\n",
    "import matplotlib.pyplot as plt\n",
    "import numpy as np\n",
    "import pandas as pd\n",
    "\n",
    "from tensorflow.keras import Sequential\n",
    "from tensorflow.keras.layers import Dense\n",
    "from tensorflow.keras.initializers import Constant\n",
    "from tensorflow.keras.optimizers import SGD"
   ]
  },
  {
   "cell_type": "code",
   "execution_count": 2,
   "id": "a21dc235",
   "metadata": {},
   "outputs": [],
   "source": [
    "def plot_coefients(model, df):\n",
    "    w, b = model.get_weights()\n",
    "\n",
    "    # Agrego el bias y w a un vector de parámetros\n",
    "    parameters = np.hstack( [w.squeeze(),b])\n",
    "    indices    = range(len(parameters))\n",
    "\n",
    "    plt.figure()\n",
    "    plt.bar(indices,parameters)\n",
    "\n",
    "    # Agrego el bias a la lista de nombres de columnas\n",
    "    columns = list(df.columns) + [\"BIAS\"]\n",
    "\n",
    "    # Quito la esperanza de vida de esta lista (es la var a predecir)\n",
    "    del columns [2]\n",
    "\n",
    "    plt.xticks(indices,columns,rotation=\"vertical\")\n",
    "    plt.show()"
   ]
  },
  {
   "cell_type": "code",
   "execution_count": 3,
   "id": "e0b3b45b",
   "metadata": {},
   "outputs": [],
   "source": [
    "def to_x_y(df):\n",
    "    x = df.to_numpy()\n",
    "    x, y  = np.hstack([x[:,0:2],x[:,3:]]),x[:,2:3]\n",
    "    d_out = y.shape[1]\n",
    "    d_in  = x.shape[1]\n",
    "    x     = (x - x.mean(axis=1, keepdims=True)) / x.std(axis=1, keepdims=True)\n",
    "    return x, y"
   ]
  },
  {
   "cell_type": "markdown",
   "id": "9b531392",
   "metadata": {},
   "source": [
    "## Carga del dataset"
   ]
  },
  {
   "cell_type": "code",
   "execution_count": 4,
   "id": "440280db",
   "metadata": {},
   "outputs": [
    {
     "name": "stdout",
     "output_type": "stream",
     "text": [
      "Loading file from package rnutil (/home/adrian/.conda/envs/rn/lib/python3.10/site-packages/rnutil/data)...\n",
      "Done\n",
      "Index(['Country', 'Year', 'Status', 'Life expectancy ', 'Adult Mortality',\n",
      "       'infant deaths', 'Alcohol', 'percentage expenditure', 'Hepatitis B',\n",
      "       'Measles ', ' BMI ', 'under-five deaths ', 'Polio', 'Total expenditure',\n",
      "       'Diphtheria ', ' HIV/AIDS', 'GDP', 'Population',\n",
      "       ' thinness  1-19 years', ' thinness 5-9 years',\n",
      "       'Income composition of resources', 'Schooling'],\n",
      "      dtype='object')\n"
     ]
    }
   ],
   "source": [
    "version_cruda = True\n",
    "\n",
    "if version_cruda:\n",
    "    df= rnutil.load_dataset_pandas(\"who_life_expectancy.csv\")\n",
    "\n",
    "    print(df.columns)\n",
    "    \n",
    "    # Quitar filas con valores faltantes\n",
    "    df = df.dropna()\n",
    "\n",
    "    # Quitar columna Country (es como un identificador)\n",
    "    del df[\"Country\"]\n",
    "    \n",
    "    # Convertir columna status a valores numéricos de 0 a 2\n",
    "    df[\"Status\"] = df[\"Status\"].astype(\"category\").cat.codes\n",
    "else:\n",
    "    df = rnutil.load_dataset_pandas(\"who_life_expectancy_no_missing_numeric.csv\")\n",
    "\n",
    "    df.describe()\n"
   ]
  },
  {
   "cell_type": "markdown",
   "id": "e1a9e7dc",
   "metadata": {},
   "source": [
    "#  Convertir datos a numpy y entrenar modelo"
   ]
  },
  {
   "cell_type": "markdown",
   "id": "a42c2811",
   "metadata": {},
   "source": [
    "Separar en columnas de entrada y de salida:"
   ]
  },
  {
   "cell_type": "code",
   "execution_count": 7,
   "id": "2c9b4b6b",
   "metadata": {},
   "outputs": [],
   "source": [
    "x, y = to_x_y(df)\n",
    "\n",
    "d_out = y.shape[1]\n",
    "d_in  = x.shape[1]"
   ]
  },
  {
   "cell_type": "markdown",
   "id": "51b3011b",
   "metadata": {},
   "source": [
    "Creación del modelo inicial:"
   ]
  },
  {
   "cell_type": "code",
   "execution_count": 8,
   "id": "0b4500ac",
   "metadata": {},
   "outputs": [
    {
     "name": "stdout",
     "output_type": "stream",
     "text": [
      "Inicialización aleatoria del modelo; vuelve a correr esta celda para obtener otros resultados\n"
     ]
    },
    {
     "name": "stderr",
     "output_type": "stream",
     "text": [
      "2022-04-03 20:30:53.338084: I tensorflow/stream_executor/cuda/cuda_gpu_executor.cc:975] successful NUMA node read from SysFS had negative value (-1), but there must be at least one NUMA node, so returning NUMA node zero\n",
      "2022-04-03 20:30:53.364299: I tensorflow/stream_executor/cuda/cuda_gpu_executor.cc:975] successful NUMA node read from SysFS had negative value (-1), but there must be at least one NUMA node, so returning NUMA node zero\n",
      "2022-04-03 20:30:53.364456: I tensorflow/stream_executor/cuda/cuda_gpu_executor.cc:975] successful NUMA node read from SysFS had negative value (-1), but there must be at least one NUMA node, so returning NUMA node zero\n",
      "2022-04-03 20:30:53.364972: I tensorflow/core/platform/cpu_feature_guard.cc:193] This TensorFlow binary is optimized with oneAPI Deep Neural Network Library (oneDNN) to use the following CPU instructions in performance-critical operations:  AVX2 FMA\n",
      "To enable them in other operations, rebuild TensorFlow with the appropriate compiler flags.\n",
      "2022-04-03 20:30:53.365892: I tensorflow/stream_executor/cuda/cuda_gpu_executor.cc:975] successful NUMA node read from SysFS had negative value (-1), but there must be at least one NUMA node, so returning NUMA node zero\n",
      "2022-04-03 20:30:53.366023: I tensorflow/stream_executor/cuda/cuda_gpu_executor.cc:975] successful NUMA node read from SysFS had negative value (-1), but there must be at least one NUMA node, so returning NUMA node zero\n",
      "2022-04-03 20:30:53.366108: I tensorflow/stream_executor/cuda/cuda_gpu_executor.cc:975] successful NUMA node read from SysFS had negative value (-1), but there must be at least one NUMA node, so returning NUMA node zero\n",
      "2022-04-03 20:30:53.617215: I tensorflow/stream_executor/cuda/cuda_gpu_executor.cc:975] successful NUMA node read from SysFS had negative value (-1), but there must be at least one NUMA node, so returning NUMA node zero\n",
      "2022-04-03 20:30:53.617327: I tensorflow/stream_executor/cuda/cuda_gpu_executor.cc:975] successful NUMA node read from SysFS had negative value (-1), but there must be at least one NUMA node, so returning NUMA node zero\n",
      "2022-04-03 20:30:53.617409: I tensorflow/stream_executor/cuda/cuda_gpu_executor.cc:975] successful NUMA node read from SysFS had negative value (-1), but there must be at least one NUMA node, so returning NUMA node zero\n",
      "2022-04-03 20:30:53.617481: I tensorflow/core/common_runtime/gpu/gpu_device.cc:1532] Created device /job:localhost/replica:0/task:0/device:GPU:0 with 7590 MB memory:  -> device: 0, name: NVIDIA GeForce RTX 3080, pci bus id: 0000:08:00.0, compute capability: 8.6\n"
     ]
    }
   ],
   "source": [
    "print(\"Inicialización aleatoria del modelo; vuelve a correr esta celda para obtener otros resultados\")\n",
    "\n",
    "modelo = Sequential([Dense(d_out, input_shape=(d_in,), activation=None)])"
   ]
  },
  {
   "cell_type": "markdown",
   "id": "5662be69",
   "metadata": {},
   "source": [
    "Creo el optimizador y compilo el modelo para usarlo:"
   ]
  },
  {
   "cell_type": "code",
   "execution_count": 9,
   "id": "003e330e",
   "metadata": {},
   "outputs": [],
   "source": [
    "modelo.compile(\n",
    "    optimizer = SGD(0.001),\n",
    "    loss = 'mse',\n",
    "    metrics = ['mae']\n",
    ")"
   ]
  },
  {
   "cell_type": "markdown",
   "id": "7dd3e441",
   "metadata": {},
   "source": [
    "Entrenamiento del modelo:"
   ]
  },
  {
   "cell_type": "code",
   "execution_count": 10,
   "id": "86f66aa8",
   "metadata": {},
   "outputs": [
    {
     "name": "stdout",
     "output_type": "stream",
     "text": [
      "Epoch 1/15\n",
      "104/104 [==============================] - 1s 920us/step - loss: 773.9500 - mae: 20.3471\n",
      "Epoch 2/15\n",
      "104/104 [==============================] - 0s 730us/step - loss: 169.8223 - mae: 8.6665\n",
      "Epoch 3/15\n",
      "104/104 [==============================] - 0s 710us/step - loss: 152.3161 - mae: 8.3955\n",
      "Epoch 4/15\n",
      "104/104 [==============================] - 0s 709us/step - loss: 138.7632 - mae: 8.2093\n",
      "Epoch 5/15\n",
      "104/104 [==============================] - 0s 693us/step - loss: 128.4127 - mae: 8.0341\n",
      "Epoch 6/15\n",
      "104/104 [==============================] - 0s 684us/step - loss: 120.3721 - mae: 7.9033\n",
      "Epoch 7/15\n",
      "104/104 [==============================] - 0s 671us/step - loss: 114.1836 - mae: 7.8073\n",
      "Epoch 8/15\n",
      "104/104 [==============================] - 0s 667us/step - loss: 109.3002 - mae: 7.7222\n",
      "Epoch 9/15\n",
      "104/104 [==============================] - 0s 657us/step - loss: 105.4669 - mae: 7.6509\n",
      "Epoch 10/15\n",
      "104/104 [==============================] - 0s 668us/step - loss: 102.5085 - mae: 7.6202\n",
      "Epoch 11/15\n",
      "104/104 [==============================] - 0s 647us/step - loss: 100.1338 - mae: 7.5727\n",
      "Epoch 12/15\n",
      "104/104 [==============================] - 0s 650us/step - loss: 98.0431 - mae: 7.5504\n",
      "Epoch 13/15\n",
      "104/104 [==============================] - 0s 651us/step - loss: 96.7052 - mae: 7.4951\n",
      "Epoch 14/15\n",
      "104/104 [==============================] - 0s 647us/step - loss: 95.5818 - mae: 7.5282\n",
      "Epoch 15/15\n",
      "104/104 [==============================] - 0s 652us/step - loss: 94.6542 - mae: 7.5175\n"
     ]
    }
   ],
   "source": [
    "history  = modelo.fit(\n",
    "    x,\n",
    "    y,\n",
    "    epochs     = 15,\n",
    "    batch_size = 16\n",
    ")"
   ]
  },
  {
   "cell_type": "markdown",
   "id": "0b2ad2ce",
   "metadata": {},
   "source": [
    "Visualización:"
   ]
  },
  {
   "cell_type": "code",
   "execution_count": 11,
   "id": "b30ec9a0",
   "metadata": {},
   "outputs": [
    {
     "data": {
      "image/png": "[encoded data removed]",
      "text/plain": [
       "<Figure size 432x288 with 1 Axes>"
      ]
     },
     "metadata": {},
     "output_type": "display_data"
    }
   ],
   "source": [
    "rnutil.plot_loss(history.history[\"loss\"])"
   ]
  },
  {
   "cell_type": "markdown",
   "id": "238851a9",
   "metadata": {},
   "source": [
    "# Visualización de los coeficientes resultantes de la regresión lineal\n",
    "\n",
    "El siguiente gráfico de barras muestra la magnitud (y signo) de los coeficientes `w` de la regresión lineal, además del sesgo. De esta forma se puede intentar explicar la importancia de cada uno de los atributos para el modelo."
   ]
  },
  {
   "cell_type": "code",
   "execution_count": 12,
   "id": "9fbe69b9",
   "metadata": {},
   "outputs": [
    {
     "name": "stdout",
     "output_type": "stream",
     "text": [
      "{'name': 'dense', 'trainable': True, 'batch_input_shape': (None, 20), 'dtype': 'float32', 'units': 1, 'activation': 'linear', 'use_bias': True, 'kernel_initializer': {'class_name': 'GlorotUniform', 'config': {'seed': None}}, 'bias_initializer': {'class_name': 'Zeros', 'config': {}}, 'kernel_regularizer': None, 'bias_regularizer': None, 'activity_regularizer': None, 'kernel_constraint': None, 'bias_constraint': None} [array([[ 4.093186 ],\n",
      "       [-1.6838768],\n",
      "       [-2.0803878],\n",
      "       [-2.1462262],\n",
      "       [-1.3811743],\n",
      "       [-0.3486908],\n",
      "       [-2.1556797],\n",
      "       [ 1.6791359],\n",
      "       [-1.7920681],\n",
      "       [-2.4040608],\n",
      "       [-1.7164127],\n",
      "       [-1.5158776],\n",
      "       [-1.467495 ],\n",
      "       [-2.1021883],\n",
      "       [ 8.811891 ],\n",
      "       [13.435937 ],\n",
      "       [-2.1878195],\n",
      "       [-1.7503867],\n",
      "       [-1.7145888],\n",
      "       [-2.131536 ]], dtype=float32), array([6.187794], dtype=float32)]\n"
     ]
    }
   ],
   "source": [
    "for layer in modelo.layers:\n",
    "    print(layer.get_config(), layer.get_weights())"
   ]
  },
  {
   "cell_type": "markdown",
   "id": "eb74a4f9",
   "metadata": {},
   "source": [
    "Dibujo un gráfico de barra de los parámetros (coeficientes de cada atributo):"
   ]
  },
  {
   "cell_type": "code",
   "execution_count": 13,
   "id": "7a8b27cd",
   "metadata": {},
   "outputs": [
    {
     "data": {
      "image/png": "[encoded data removed]",
      "text/plain": [
       "<Figure size 432x288 with 1 Axes>"
      ]
     },
     "metadata": {},
     "output_type": "display_data"
    }
   ],
   "source": [
    "plot_coefients(modelo, df)"
   ]
  },
  {
   "cell_type": "markdown",
   "id": "86a877f6",
   "metadata": {},
   "source": [
    "**5. Podemos analizar qué variables utiliza el modelo para realizar la \tpredicción en base a los valores de sus pesos. Analizá los pesos \tdel modelo para determinar cuáles son las variables correspondientes que más impacto tienen en la predicción. Poniéndote en lugar de un estadista, ¿cuáles de estas variables es más importante influenciar si se busca aumentar la esperanza de vida?**"
   ]
  },
  {
   "cell_type": "markdown",
   "id": "17bfa585",
   "metadata": {},
   "source": [
    "Variables con mas impacto:\n",
    "\n",
    "* **Population**: Este coeficiente es muy obivio ya que a major poblacion tenemos mas posibibildad \n",
    "de aumentar la esperanza de vida o personas con major edad.\n",
    "* **GDP (Producto bruto interno)**: Esta propiedad tambien es mediana mente obvia, ya que cuando mayor es el consumo de viene y servicios dentro del pais en un periodo dado mas  posibilidad hay de que individios de edades mayores los consuman.\n",
    "* **Year**: Este es el coeficiente mas directo pero no es el que tiene mas influencia. Entiendo que se refiere a la edad maxima.\n",
    "\n",
    "Creo que lo mejor e diminuir los coecifientes que restan com la mortalidad en adultos y infantes, el estatus y la escolaridad."
   ]
  },
  {
   "cell_type": "markdown",
   "id": "79e75d19",
   "metadata": {},
   "source": [
    "**6. Podría argumentarse que algunas variables deberían quitarse, debido a que \ttienen una relación muy directa con la variable a predecir. En particular, la mortalidad adulta e infantil están demasiado relacionadas con la expectativa de vida, y entonces el modelo no aprende algo útil, ya que no son variables que un estadista pueda cambiar directamente. Quitá esas variables del conjunto de datos y repetí el análisis. ¿Cuáles son las variables relevantes ahora?**"
   ]
  },
  {
   "cell_type": "code",
   "execution_count": 20,
   "id": "ad2b36dd",
   "metadata": {},
   "outputs": [
    {
     "data": {
      "text/plain": [
       "Index(['Year', 'Status', 'Life expectancy ', 'Adult Mortality',\n",
       "       'infant deaths', 'Alcohol', 'percentage expenditure', 'Hepatitis B',\n",
       "       'Measles ', ' BMI ', 'under-five deaths ', 'Polio', 'Total expenditure',\n",
       "       'Diphtheria ', ' HIV/AIDS', 'GDP', 'Population',\n",
       "       ' thinness  1-19 years', ' thinness 5-9 years',\n",
       "       'Income composition of resources', 'Schooling'],\n",
       "      dtype='object')"
      ]
     },
     "execution_count": 20,
     "metadata": {},
     "output_type": "execute_result"
    }
   ],
   "source": [
    "df.columns"
   ]
  },
  {
   "cell_type": "code",
   "execution_count": 21,
   "id": "16724d57",
   "metadata": {},
   "outputs": [],
   "source": [
    "df2 = df.drop(['Adult Mortality', 'infant deaths', 'under-five deaths '], axis=1)"
   ]
  },
  {
   "cell_type": "code",
   "execution_count": 22,
   "id": "56952066",
   "metadata": {},
   "outputs": [
    {
     "data": {
      "image/png": "[encoded data removed]",
      "text/plain": [
       "<Figure size 432x288 with 1 Axes>"
      ]
     },
     "metadata": {},
     "output_type": "display_data"
    }
   ],
   "source": [
    "x, y  = to_x_y(df2)\n",
    "\n",
    "model = Sequential([Dense(d_out, input_shape=(x.shape[1],), activation=None)])\n",
    "\n",
    "model.compile(\n",
    "    optimizer = SGD(0.001),\n",
    "    loss = 'mse',\n",
    "    metrics = ['mae']\n",
    ")\n",
    "\n",
    "history  = model.fit(\n",
    "    x,\n",
    "    y,\n",
    "    epochs     = 15,\n",
    "    batch_size = 16, \n",
    "    verbose    = 0\n",
    ")\n",
    "\n",
    "plot_coefients(model, df2)"
   ]
  },
  {
   "cell_type": "markdown",
   "id": "8f27726f",
   "metadata": {},
   "source": [
    "Las variables relevantes positivas siguen siendo las mismas. Las negativas en su mayoria ahora estan pradicamente igualadas:\n",
    "\n",
    "* Todas la referentes a enfermedades tiene simiales importancias Hepatitis B, Polio, Difteria. \n",
    "* Ademas el indice se masa corporal como la delgadez toman mas importancia. \n",
    "* Sarampión aumenta las expectativa de vida lo cual no tiene mucho sentido.\n",
    "* El coeficiente de status social resta mas. Entiendo que se refiere a que a mayor status social disminuye la expectativa de vida, tendra que ver con el stress?"
   ]
  }
 ],
 "metadata": {
  "kernelspec": {
   "display_name": "Python 3 (ipykernel)",
   "language": "python",
   "name": "python3"
  },
  "language_info": {
   "codemirror_mode": {
    "name": "ipython",
    "version": 3
   },
   "file_extension": ".py",
   "mimetype": "text/x-python",
   "name": "python",
   "nbconvert_exporter": "python",
   "pygments_lexer": "ipython3",
   "version": "3.10.4"
  },
  "widgets": {
   "application/vnd.jupyter.widget-state+json": {
    "state": {},
    "version_major": 2,
    "version_minor": 0
   }
  }
 },
 "nbformat": 4,
 "nbformat_minor": 5
}
