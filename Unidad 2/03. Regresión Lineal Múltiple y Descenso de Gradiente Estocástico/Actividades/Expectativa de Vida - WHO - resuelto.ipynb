{
 "cells": [
  {
   "cell_type": "code",
   "execution_count": 1,
   "id": "f0979403",
   "metadata": {},
   "outputs": [
    {
     "name": "stdout",
     "output_type": "stream",
     "text": [
      "rnutil: Los archivos de los conjuntos de datos que ofrece este paquete también están disponibles en https://github.com/facundoq/redes-neuronales-util/tree/main/rnutil/data para descargar de forma individual\n",
      "rnutil: Agregando el parámetro local=True en las funciones rnutil.load_dataset_numpy, rnutil.load_dataset_pandas y rnutil.load_image se puede cargar una versión local de un archivo en lugar de la versión que ofrece este paquete.\n"
     ]
    }
   ],
   "source": [
    "import rnutil\n",
    "import matplotlib.pyplot as plt\n",
    "import numpy as np\n",
    "import pandas as pd\n",
    "\n",
    "from tensorflow.keras import Sequential\n",
    "from tensorflow.keras.layers import Dense\n",
    "from tensorflow.keras.initializers import Constant\n",
    "from tensorflow.keras.optimizers import SGD"
   ]
  },
  {
   "cell_type": "markdown",
   "id": "9b531392",
   "metadata": {},
   "source": [
    "## Carga del dataset"
   ]
  },
  {
   "cell_type": "code",
   "execution_count": 2,
   "id": "440280db",
   "metadata": {},
   "outputs": [
    {
     "name": "stdout",
     "output_type": "stream",
     "text": [
      "Loading file from package rnutil (/home/adrian/.conda/envs/rn/lib/python3.10/site-packages/rnutil/data)...\n",
      "Done\n",
      "Index(['Country', 'Year', 'Status', 'Life expectancy ', 'Adult Mortality',\n",
      "       'infant deaths', 'Alcohol', 'percentage expenditure', 'Hepatitis B',\n",
      "       'Measles ', ' BMI ', 'under-five deaths ', 'Polio', 'Total expenditure',\n",
      "       'Diphtheria ', ' HIV/AIDS', 'GDP', 'Population',\n",
      "       ' thinness  1-19 years', ' thinness 5-9 years',\n",
      "       'Income composition of resources', 'Schooling'],\n",
      "      dtype='object')\n"
     ]
    }
   ],
   "source": [
    "version_cruda = True\n",
    "\n",
    "if version_cruda:\n",
    "    df= rnutil.load_dataset_pandas(\"who_life_expectancy.csv\")\n",
    "    # quitar filas con valores faltantes\n",
    "    print(df.columns)\n",
    "    df = df.dropna()\n",
    "    # quitar columna Country (es como un identificador)\n",
    "    del df[\"Country\"]\n",
    "    # convertir columna status a valores numéricos de 0 a 2\n",
    "    df[\"Status\"] = df[\"Status\"].astype(\"category\").cat.codes\n",
    "else:\n",
    "    df = rnutil.load_dataset_pandas(\"who_life_expectancy_no_missing_numeric.csv\")\n",
    "\n",
    "    df.describe()\n",
    "    \n",
    "x = df.to_numpy()"
   ]
  },
  {
   "cell_type": "markdown",
   "id": "e1a9e7dc",
   "metadata": {},
   "source": [
    "#  Convertir datos a numpy y entrenar modelo"
   ]
  },
  {
   "cell_type": "markdown",
   "id": "a42c2811",
   "metadata": {},
   "source": [
    "Separar en columnas de entrada y de salida:"
   ]
  },
  {
   "cell_type": "code",
   "execution_count": 3,
   "id": "2c9b4b6b",
   "metadata": {},
   "outputs": [],
   "source": [
    "x, y  = np.hstack([x[:,0:2],x[:,3:]]),x[:,2:3]\n",
    "d_out = y.shape[1]\n",
    "d_in  = x.shape[1]\n",
    "x     = (x- x.mean(axis=1,keepdims=True))/x.std(axis=1,keepdims=True)"
   ]
  },
  {
   "cell_type": "markdown",
   "id": "51b3011b",
   "metadata": {},
   "source": [
    "Creación del modelo inicial:"
   ]
  },
  {
   "cell_type": "code",
   "execution_count": 4,
   "id": "0b4500ac",
   "metadata": {},
   "outputs": [
    {
     "name": "stdout",
     "output_type": "stream",
     "text": [
      "Inicialización aleatoria del modelo; vuelve a correr esta celda para obtener otros resultados\n"
     ]
    },
    {
     "name": "stderr",
     "output_type": "stream",
     "text": [
      "2022-04-02 18:07:06.664422: I tensorflow/stream_executor/cuda/cuda_gpu_executor.cc:975] successful NUMA node read from SysFS had negative value (-1), but there must be at least one NUMA node, so returning NUMA node zero\n",
      "2022-04-02 18:07:06.681774: I tensorflow/stream_executor/cuda/cuda_gpu_executor.cc:975] successful NUMA node read from SysFS had negative value (-1), but there must be at least one NUMA node, so returning NUMA node zero\n",
      "2022-04-02 18:07:06.681877: I tensorflow/stream_executor/cuda/cuda_gpu_executor.cc:975] successful NUMA node read from SysFS had negative value (-1), but there must be at least one NUMA node, so returning NUMA node zero\n",
      "2022-04-02 18:07:06.682226: I tensorflow/core/platform/cpu_feature_guard.cc:193] This TensorFlow binary is optimized with oneAPI Deep Neural Network Library (oneDNN) to use the following CPU instructions in performance-critical operations:  AVX2 FMA\n",
      "To enable them in other operations, rebuild TensorFlow with the appropriate compiler flags.\n",
      "2022-04-02 18:07:06.682919: I tensorflow/stream_executor/cuda/cuda_gpu_executor.cc:975] successful NUMA node read from SysFS had negative value (-1), but there must be at least one NUMA node, so returning NUMA node zero\n",
      "2022-04-02 18:07:06.683014: I tensorflow/stream_executor/cuda/cuda_gpu_executor.cc:975] successful NUMA node read from SysFS had negative value (-1), but there must be at least one NUMA node, so returning NUMA node zero\n",
      "2022-04-02 18:07:06.683092: I tensorflow/stream_executor/cuda/cuda_gpu_executor.cc:975] successful NUMA node read from SysFS had negative value (-1), but there must be at least one NUMA node, so returning NUMA node zero\n",
      "2022-04-02 18:07:06.937324: I tensorflow/stream_executor/cuda/cuda_gpu_executor.cc:975] successful NUMA node read from SysFS had negative value (-1), but there must be at least one NUMA node, so returning NUMA node zero\n",
      "2022-04-02 18:07:06.937445: I tensorflow/stream_executor/cuda/cuda_gpu_executor.cc:975] successful NUMA node read from SysFS had negative value (-1), but there must be at least one NUMA node, so returning NUMA node zero\n",
      "2022-04-02 18:07:06.937530: I tensorflow/stream_executor/cuda/cuda_gpu_executor.cc:975] successful NUMA node read from SysFS had negative value (-1), but there must be at least one NUMA node, so returning NUMA node zero\n",
      "2022-04-02 18:07:06.937605: I tensorflow/core/common_runtime/gpu/gpu_device.cc:1532] Created device /job:localhost/replica:0/task:0/device:GPU:0 with 7269 MB memory:  -> device: 0, name: NVIDIA GeForce RTX 3080, pci bus id: 0000:08:00.0, compute capability: 8.6\n"
     ]
    }
   ],
   "source": [
    "print(\"Inicialización aleatoria del modelo; vuelve a correr esta celda para obtener otros resultados\")\n",
    "\n",
    "# Creo un modelo lineal\n",
    "modelo = Sequential([Dense(d_out, input_shape=(d_in,), activation=None)])"
   ]
  },
  {
   "cell_type": "markdown",
   "id": "5662be69",
   "metadata": {},
   "source": [
    "Creo el optimizador y compilo el modelo para usarlo:"
   ]
  },
  {
   "cell_type": "code",
   "execution_count": 5,
   "id": "86f66aa8",
   "metadata": {},
   "outputs": [
    {
     "name": "stdout",
     "output_type": "stream",
     "text": [
      "Epoch 1/15\n",
      "52/52 [==============================] - 1s 805us/step - loss: 1330.8051 - mae: 30.7864\n",
      "Epoch 2/15\n",
      "52/52 [==============================] - 0s 773us/step - loss: 199.7039 - mae: 9.7821\n",
      "Epoch 3/15\n",
      "52/52 [==============================] - 0s 681us/step - loss: 172.4755 - mae: 8.7156\n",
      "Epoch 4/15\n",
      "52/52 [==============================] - 0s 692us/step - loss: 162.6701 - mae: 8.5431\n",
      "Epoch 5/15\n",
      "52/52 [==============================] - 0s 715us/step - loss: 154.1454 - mae: 8.4365\n",
      "Epoch 6/15\n",
      "52/52 [==============================] - 0s 704us/step - loss: 146.8162 - mae: 8.3218\n",
      "Epoch 7/15\n",
      "52/52 [==============================] - 0s 685us/step - loss: 140.1933 - mae: 8.2048\n",
      "Epoch 8/15\n",
      "52/52 [==============================] - 0s 714us/step - loss: 134.5717 - mae: 8.1408\n",
      "Epoch 9/15\n",
      "52/52 [==============================] - 0s 748us/step - loss: 129.5576 - mae: 8.0586\n",
      "Epoch 10/15\n",
      "52/52 [==============================] - 0s 704us/step - loss: 125.2273 - mae: 7.9719\n",
      "Epoch 11/15\n",
      "52/52 [==============================] - 0s 708us/step - loss: 121.3464 - mae: 7.9216\n",
      "Epoch 12/15\n",
      "52/52 [==============================] - 0s 739us/step - loss: 117.8960 - mae: 7.8618\n",
      "Epoch 13/15\n",
      "52/52 [==============================] - 0s 735us/step - loss: 114.8610 - mae: 7.8190\n",
      "Epoch 14/15\n",
      "52/52 [==============================] - 0s 714us/step - loss: 112.2528 - mae: 7.7659\n",
      "Epoch 15/15\n",
      "52/52 [==============================] - 0s 742us/step - loss: 109.9238 - mae: 7.7192\n"
     ]
    },
    {
     "data": {
      "image/png": "[encoded data removed]",
      "text/plain": [
       "<Figure size 432x288 with 1 Axes>"
      ]
     },
     "metadata": {},
     "output_type": "display_data"
    }
   ],
   "source": [
    "modelo.compile(\n",
    "    # Algoritmo de optimización: Descenso de Gradiente Estocástico (Stochastic Gradient Descent)\n",
    "    optimizer = SGD(learning_rate = 0.001),\n",
    "\n",
    "    # Error cuadrático medio es la métrica de error a optimizar\n",
    "    loss = 'mse', # IMPORTANTE\n",
    "\n",
    "    # Metricas para ir calculando en cada iteracion o batch (usamos MAE también)\n",
    "    metrics = ['mae']\n",
    ")\n",
    "\n",
    "# Entrenamiento del modelo\n",
    "history  = modelo.fit(\n",
    "    x,\n",
    "    y,\n",
    "    epochs     = 15,\n",
    "    batch_size = 32\n",
    ")\n",
    "\n",
    "# Visualización\n",
    "rnutil.plot_loss(history.history[\"loss\"])"
   ]
  },
  {
   "cell_type": "markdown",
   "id": "238851a9",
   "metadata": {},
   "source": [
    "# Visualización de los coeficientes resultantes de la regresión lineal\n",
    "\n",
    "El siguiente gráfico de barras muestra la magnitud (y signo) de los coeficientes `w` de la regresión lineal, además del sesgo. De esta forma se puede intentar explicar la importancia de cada uno de los atributos para el modelo."
   ]
  },
  {
   "cell_type": "code",
   "execution_count": 6,
   "id": "7a8b27cd",
   "metadata": {},
   "outputs": [
    {
     "data": {
      "image/png": "[encoded data removed]",
      "text/plain": [
       "<Figure size 432x288 with 1 Axes>"
      ]
     },
     "metadata": {},
     "output_type": "display_data"
    }
   ],
   "source": [
    "w, b = modelo.get_weights()\n",
    "\n",
    "# agrego el bias y w a un vector de parámetros\n",
    "parameters = np.hstack( [w.squeeze(),b])\n",
    "indices = range(len(parameters))\n",
    "\n",
    "# dibujo un gráfico de barra de los parámetros (coeficientes de cada atributo)\n",
    "plt.figure()\n",
    "plt.bar(indices,parameters)\n",
    "\n",
    "# agrego el bias a la lista de nombres de columnas\n",
    "columns = list(df.columns) + [\"BIAS\"]\n",
    "\n",
    "# quito la esperanza de vida de esta lista (es la var a predecir)\n",
    "del columns [2]\n",
    "plt.xticks(indices,columns,rotation=\"vertical\")\n",
    "plt.show()"
   ]
  }
 ],
 "metadata": {
  "kernelspec": {
   "display_name": "Python 3 (ipykernel)",
   "language": "python",
   "name": "python3"
  },
  "language_info": {
   "codemirror_mode": {
    "name": "ipython",
    "version": 3
   },
   "file_extension": ".py",
   "mimetype": "text/x-python",
   "name": "python",
   "nbconvert_exporter": "python",
   "pygments_lexer": "ipython3",
   "version": "3.10.4"
  },
  "widgets": {
   "application/vnd.jupyter.widget-state+json": {
    "state": {},
    "version_major": 2,
    "version_minor": 0
   }
  }
 },
 "nbformat": 4,
 "nbformat_minor": 5
}
