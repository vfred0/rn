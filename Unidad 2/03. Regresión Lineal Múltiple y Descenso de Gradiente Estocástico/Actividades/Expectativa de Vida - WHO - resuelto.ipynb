{
 "cells": [
  {
   "cell_type": "code",
   "execution_count": null,
   "id": "f0979403",
   "metadata": {},
   "outputs": [],
   "source": [
    "!pip install -q rnutil\n",
    "import rnutil\n",
    "\n",
    "from tensorflow import keras\n",
    "import numpy as np"
   ]
  },
  {
   "cell_type": "code",
   "execution_count": null,
   "id": "440280db",
   "metadata": {},
   "outputs": [],
   "source": [
    "# Carga del dataset\n",
    "import pandas as pd\n",
    "version_cruda = True\n",
    "if version_cruda:\n",
    "    df= rnutil.load_dataset_pandas(\"who_life_expectancy.csv\")\n",
    "    # quitar filas con valores faltantes\n",
    "    print(df.columns)\n",
    "    df = df.dropna()\n",
    "    # quitar columna Country (es como un identificador)\n",
    "    del df[\"Country\"]\n",
    "    # convertir columna status a valores numéricos de 0 a 2\n",
    "    df[\"Status\"] = df[\"Status\"].astype(\"category\").cat.codes\n",
    "else:\n",
    "    df = rnutil.load_dataset_pandas(\"who_life_expectancy_no_missing_numeric.csv\")\n",
    "df.describe()"
   ]
  },
  {
   "cell_type": "markdown",
   "id": "e1a9e7dc",
   "metadata": {},
   "source": [
    "#  Convertir datos a numpy y entrenar modelo"
   ]
  },
  {
   "cell_type": "code",
   "execution_count": null,
   "id": "86f66aa8",
   "metadata": {},
   "outputs": [],
   "source": [
    "\n",
    "x = df.to_numpy()\n",
    "# separar en columnas de entrada y de salida\n",
    "x,y=np.hstack([x[:,0:2],x[:,3:]]),x[:,2:3]\n",
    "d_out = y.shape[1]\n",
    "d_in = x.shape[1]\n",
    "x = (x- x.mean(axis=1,keepdims=True))/x.std(axis=1,keepdims=True)\n",
    "\n",
    "# Creación del modelo inicial\n",
    "print(\"Inicialización aleatoria del modelo; vuelve a correr esta celda para obtener otros resultados\")\n",
    "# Creo un modelo lineal\n",
    "modelo = keras.Sequential([\n",
    "    keras.layers.Dense(d_out,input_shape=(d_in,), activation=None)])\n",
    "\n",
    "#Creo el optimizador y compilo el modelo para usarlo\n",
    "α=0.001\n",
    "# Algoritmo de optimización: Descenso de Gradiente Estocástico (Stochastic Gradient Descent)\n",
    "sgd = keras.optimizers.SGD(learning_rate=α)\n",
    "\n",
    "# error cuadrático medio es la métrica de error a optimizar\n",
    "error_metric='mse' # IMPORTANTE\n",
    "\n",
    "modelo.compile(\n",
    "  optimizer=sgd,\n",
    "  loss=error_metric,\n",
    "  metrics=['mae'], # metricas para ir calculando en cada iteracion o batch (usamos MAE también)\n",
    ")\n",
    "\n",
    "# Entrenamiento del modelo\n",
    "history  = modelo.fit(x,y,epochs=15,batch_size=32)\n",
    "# Visualización\n",
    "rnutil.plot_loss(history.history[\"loss\"])"
   ]
  },
  {
   "cell_type": "markdown",
   "id": "238851a9",
   "metadata": {},
   "source": [
    "# Visualización de los coeficientes resultantes de la regresión lineal\n",
    "\n",
    "El siguiente gráfico de barras muestra la magnitud (y signo) de los coeficientes `w` de la regresión lineal, además del sesgo. De esta forma se puede intentar explicar la importancia de cada uno de los atributos para el modelo."
   ]
  },
  {
   "cell_type": "code",
   "execution_count": null,
   "id": "7a8b27cd",
   "metadata": {},
   "outputs": [],
   "source": [
    "import matplotlib.pyplot as plt\n",
    "w,b = modelo.get_weights()\n",
    "# agrego el bias y w a un vector de parámetros\n",
    "parameters = np.hstack( [w.squeeze(),b])\n",
    "indices = range(len(parameters))\n",
    "# dibujo un gráfico de barra de los parámetros (coeficientes de cada atributo)\n",
    "plt.figure()\n",
    "plt.bar(indices,parameters)\n",
    "\n",
    "# agrego el bias a la lista de nombres de columnas\n",
    "columns = list(df.columns) + [\"BIAS\"]\n",
    "# quito la esperanza de vida de esta lista (es la var a predecir)\n",
    "del columns [2]\n",
    "plt.xticks(indices,columns,rotation=\"vertical\")\n",
    "plt.show()"
   ]
  }
 ],
 "metadata": {
  "kernelspec": {
   "display_name": "Python 3 (ipykernel)",
   "language": "python",
   "name": "python3"
  },
  "language_info": {
   "codemirror_mode": {
    "name": "ipython",
    "version": 3
   },
   "file_extension": ".py",
   "mimetype": "text/x-python",
   "name": "python",
   "nbconvert_exporter": "python",
   "pygments_lexer": "ipython3",
   "version": "3.10.4"
  },
  "widgets": {
   "application/vnd.jupyter.widget-state+json": {
    "state": {},
    "version_major": 2,
    "version_minor": 0
   }
  }
 },
 "nbformat": 4,
 "nbformat_minor": 5
}
